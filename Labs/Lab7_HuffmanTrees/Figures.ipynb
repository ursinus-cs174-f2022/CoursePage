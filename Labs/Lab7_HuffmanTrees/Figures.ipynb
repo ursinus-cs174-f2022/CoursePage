{
 "cells": [
  {
   "cell_type": "code",
   "execution_count": 1,
   "id": "6de225ac",
   "metadata": {},
   "outputs": [],
   "source": [
    "def get_binary(x, N):\n",
    "    s = \"{0:b}\".format(x)\n",
    "    if len(s) < N:\n",
    "        s = (N-len(s))*\"0\" + s\n",
    "    return s"
   ]
  },
  {
   "cell_type": "code",
   "execution_count": 15,
   "id": "ac2aef97",
   "metadata": {},
   "outputs": [],
   "source": [
    "letters = [' ', '.'] + [chr(ord('a') + i) for i in range(26)]"
   ]
  },
  {
   "cell_type": "code",
   "execution_count": 16,
   "id": "c0947f53",
   "metadata": {},
   "outputs": [
    {
     "name": "stdout",
     "output_type": "stream",
     "text": [
      "' ': 00000\n",
      "'.': 00001\n",
      "'a': 00010\n",
      "'b': 00011\n",
      "'c': 00100\n",
      "'d': 00101\n",
      "'e': 00110\n",
      "'f': 00111\n",
      "'g': 01000\n",
      "'h': 01001\n",
      "'i': 01010\n",
      "'j': 01011\n",
      "'k': 01100\n",
      "'l': 01101\n",
      "'m': 01110\n",
      "'n': 01111\n",
      "'o': 10000\n",
      "'p': 10001\n",
      "'q': 10010\n",
      "'r': 10011\n",
      "'s': 10100\n",
      "'t': 10101\n",
      "'u': 10110\n",
      "'v': 10111\n",
      "'w': 11000\n",
      "'x': 11001\n",
      "'y': 11010\n",
      "'z': 11011\n"
     ]
    }
   ],
   "source": [
    "for i, c in enumerate(letters):\n",
    "    print(\"'{}': {}\".format(c, get_binary(i, 5)))\n"
   ]
  },
  {
   "cell_type": "code",
   "execution_count": 10,
   "id": "f4814174",
   "metadata": {},
   "outputs": [],
   "source": [
    "codebook = {\n",
    "    'e': \"000\",\n",
    "' ': \"001\",\n",
    "'m': \"01000\",\n",
    "'u': \"01001\",\n",
    "'r': \"0101\",\n",
    "'k': \"0110000\",\n",
    "'x': \"01100010\",\n",
    "'j': \"011000110\",\n",
    "'z': \"0110001110\",\n",
    "'q': \"0110001111\",\n",
    "'b': \"011001\",\n",
    "'h': \"01101\",\n",
    "'s': \"0111\",\n",
    "'n': \"1000\",\n",
    "'d': \"10010\",\n",
    "'c': \"10011\",\n",
    "'i': \"1010\",\n",
    "'o': \"1011\",\n",
    "'a': \"1100\",\n",
    "'y': \"110100\",\n",
    "'f': \"110101\",\n",
    "'l': \"11011\",\n",
    "'t': \"1110\",\n",
    "'g': \"111100\",\n",
    "'.': \"111101\",\n",
    "'p': \"111110\",\n",
    "'v': \"1111110\",\n",
    "'w': \"1111111\"\n",
    "}"
   ]
  },
  {
   "cell_type": "code",
   "execution_count": 12,
   "id": "f01a5777",
   "metadata": {},
   "outputs": [
    {
     "name": "stdout",
     "output_type": "stream",
     "text": [
      "' ': 001\n",
      "'.': 111101\n",
      "'a': 1100\n",
      "'b': 011001\n",
      "'c': 10011\n",
      "'d': 10010\n",
      "'e': 000\n",
      "'f': 110101\n",
      "'g': 111100\n",
      "'h': 01101\n",
      "'i': 1010\n",
      "'j': 011000110\n",
      "'k': 0110000\n",
      "'l': 11011\n",
      "'m': 01000\n",
      "'n': 1000\n",
      "'o': 1011\n",
      "'p': 111110\n",
      "'q': 0110001111\n",
      "'r': 0101\n",
      "'s': 0111\n",
      "'t': 1110\n",
      "'u': 01001\n",
      "'v': 1111110\n",
      "'w': 1111111\n",
      "'x': 01100010\n",
      "'y': 110100\n",
      "'z': 0110001110\n"
     ]
    }
   ],
   "source": [
    "for key in sorted(codebook.keys()):\n",
    "    print(\"'{}': {}\".format(key, codebook[key]))"
   ]
  },
  {
   "cell_type": "code",
   "execution_count": null,
   "id": "f0e37dbc",
   "metadata": {},
   "outputs": [],
   "source": []
  }
 ],
 "metadata": {
  "kernelspec": {
   "display_name": "Python 3 (ipykernel)",
   "language": "python",
   "name": "python3"
  },
  "language_info": {
   "codemirror_mode": {
    "name": "ipython",
    "version": 3
   },
   "file_extension": ".py",
   "mimetype": "text/x-python",
   "name": "python",
   "nbconvert_exporter": "python",
   "pygments_lexer": "ipython3",
   "version": "3.9.7"
  }
 },
 "nbformat": 4,
 "nbformat_minor": 5
}
